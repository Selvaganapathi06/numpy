{
 "cells": [
  {
   "cell_type": "code",
   "execution_count": 14,
   "metadata": {},
   "outputs": [
    {
     "name": "stdout",
     "output_type": "stream",
     "text": [
      "Addition:\n",
      "[15 15 15 15]\n",
      "Subtraction:\n",
      "[5 5 5 5]\n",
      "multiplications:\n",
      "[50 50 50 50]\n",
      "divisons:\n",
      "[2. 2. 2. 2.]\n",
      "modulo divisons:\n",
      "[0 0 0 0]\n",
      "power:\n",
      "[1000 1000 1000 1000]\n"
     ]
    }
   ],
   "source": [
    "#numpy arithmetic operation\n",
    "import numpy as np\n",
    "a = np.array([10,10,10,10])\n",
    "b = np.array([5,5,5,5])\n",
    "#Addition\n",
    "c= a+b\n",
    "print(\"Addition:\")\n",
    "print(c)\n",
    "#subtraction\n",
    "d = a-b\n",
    "print(\"Subtraction:\")\n",
    "print(d)\n",
    "#multiplications\n",
    "e = a*b\n",
    "print(\"multiplications:\")\n",
    "print(e)\n",
    "#divisons\n",
    "f = a/b\n",
    "print(\"divisons:\")\n",
    "print(f)\n",
    "#modulo divisons\n",
    "g = a%b\n",
    "print(\"modulo divisons:\")\n",
    "print(g)\n",
    "#power\n",
    "h = a**3\n",
    "print(\"power:\")\n",
    "print(h)"
   ]
  }
 ],
 "metadata": {
  "kernelspec": {
   "display_name": "Python 3",
   "language": "python",
   "name": "python3"
  },
  "language_info": {
   "codemirror_mode": {
    "name": "ipython",
    "version": 3
   },
   "file_extension": ".py",
   "mimetype": "text/x-python",
   "name": "python",
   "nbconvert_exporter": "python",
   "pygments_lexer": "ipython3",
   "version": "3.7.3"
  }
 },
 "nbformat": 4,
 "nbformat_minor": 2
}

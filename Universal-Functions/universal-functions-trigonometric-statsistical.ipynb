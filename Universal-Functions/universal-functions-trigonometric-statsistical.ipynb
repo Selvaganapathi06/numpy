{
 "cells": [
  {
   "cell_type": "code",
   "execution_count": 3,
   "metadata": {},
   "outputs": [
    {
     "name": "stdout",
     "output_type": "stream",
     "text": [
      "sign value: [ 0.00000000e+00  5.00000000e-01  7.07106781e-01  8.66025404e-01\n",
      "  1.00000000e+00  1.22464680e-16 -2.44929360e-16]\n",
      "cos value: [ 1.00000000e+00  8.66025404e-01  7.07106781e-01  5.00000000e-01\n",
      "  6.12323400e-17 -1.00000000e+00  1.00000000e+00]\n",
      "tan value: [ 0.00000000e+00  5.77350269e-01  1.00000000e+00  1.73205081e+00\n",
      "  1.63312394e+16 -1.22464680e-16 -2.44929360e-16]\n"
     ]
    }
   ],
   "source": [
    "#universal Functions\n",
    "#Trignomattery\n",
    "#we not directly convert angles to\n",
    "import numpy as np\n",
    "angles = np.array([0,30,45,60,90,180,360])\n",
    "radians = angles*np.pi/180\n",
    "signvalue = np.sin(radians)\n",
    "print(\"sign value:\",signvalue)\n",
    "cosvalue = np.cos(radians)\n",
    "print(\"cos value:\",cosvalue)\n",
    "tanvalue = np.tan(radians)\n",
    "print(\"tan value:\",tanvalue)"
   ]
  },
  {
   "cell_type": "code",
   "execution_count": 28,
   "metadata": {},
   "outputs": [
    {
     "name": "stdout",
     "output_type": "stream",
     "text": [
      "Mean: 55894.53879686138\n",
      "Median 48000.0\n",
      "SD: 55170.37550939316\n",
      "Variance 3043770333.8474483\n",
      "Variance 55894.53879686138\n"
     ]
    }
   ],
   "source": [
    "#Statistcal Functions\n",
    "import sys\n",
    "import numpy as np\n",
    "from io import BytesIO\n",
    "#sam = D:\\advancepython\\data\\realtimedatasetsnumpy\\salary.csv\n",
    "salary = np.genfromtxt('salary.csv')\n",
    "#np.set_printoptions(threshold=sys.maxsize)\n",
    "#Mean\n",
    "print(\"Mean:\",np.mean(salary))\n",
    "\n",
    "#Median\n",
    "print(\"Median\",np.median(salary))\n",
    "#Standard Deviation\n",
    "print(\"SD:\",np.std(salary))\n",
    "#Variance\n",
    "print(\"Variance\",np.var(salary))\n",
    "#Average\n",
    "print(\"Variance\",np.average(salary))\n",
    "\n"
   ]
  }
 ],
 "metadata": {
  "kernelspec": {
   "display_name": "Python 3",
   "language": "python",
   "name": "python3"
  },
  "language_info": {
   "codemirror_mode": {
    "name": "ipython",
    "version": 3
   },
   "file_extension": ".py",
   "mimetype": "text/x-python",
   "name": "python",
   "nbconvert_exporter": "python",
   "pygments_lexer": "ipython3",
   "version": "3.7.3"
  }
 },
 "nbformat": 4,
 "nbformat_minor": 2
}

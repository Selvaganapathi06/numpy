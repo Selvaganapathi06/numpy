{
 "cells": [
  {
   "cell_type": "code",
   "execution_count": 9,
   "metadata": {},
   "outputs": [
    {
     "name": "stdout",
     "output_type": "stream",
     "text": [
      "['germany' 'france' 'hungary' 'austria']\n",
      "[['germany']\n",
      " ['france']\n",
      " ['hungary']\n",
      " ['austria']]\n",
      "['germany' 'france' 'hungary' 'austria']\n"
     ]
    }
   ],
   "source": [
    "import numpy as np\n",
    "a = np.array([(\"germany\",\"france\",\"hungary\",\"austria\")])\n",
    "a.shape\n",
    "c= a.ravel()\n",
    "print(c)\n",
    "d = a.T\n",
    "print(d)\n",
    "e = a.T.ravel()\n",
    "print(e)"
   ]
  }
 ],
 "metadata": {
  "kernelspec": {
   "display_name": "Python 3",
   "language": "python",
   "name": "python3"
  },
  "language_info": {
   "codemirror_mode": {
    "name": "ipython",
    "version": 3
   },
   "file_extension": ".py",
   "mimetype": "text/x-python",
   "name": "python",
   "nbconvert_exporter": "python",
   "pygments_lexer": "ipython3",
   "version": "3.7.3"
  }
 },
 "nbformat": 4,
 "nbformat_minor": 2
}

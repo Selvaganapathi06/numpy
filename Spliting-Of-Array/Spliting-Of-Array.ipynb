{
 "cells": [
  {
   "cell_type": "code",
   "execution_count": 4,
   "metadata": {},
   "outputs": [
    {
     "name": "stdout",
     "output_type": "stream",
     "text": [
      "Split the array 3 equal sized sub arrays\n",
      "[array([0, 1, 2]), array([3, 4, 5]), array([6, 7, 8])]\n"
     ]
    }
   ],
   "source": [
    "#Spliting Of Array\n",
    "import numpy as np\n",
    "x = np.arange(9)\n",
    "print(\"Split the array 3 equal sized sub arrays\")\n",
    "np.split(x,3)\n",
    "print(np.split(x,3))"
   ]
  },
  {
   "cell_type": "code",
   "execution_count": 7,
   "metadata": {},
   "outputs": [
    {
     "name": "stdout",
     "output_type": "stream",
     "text": [
      "[['germany' 'france']\n",
      " ['berlin' 'paris']]\n",
      "[['hungary' 'austria']\n",
      " ['budpest' 'vienna']]\n"
     ]
    }
   ],
   "source": [
    "#hsplit\n",
    "import numpy as np\n",
    "y = np.array([(\"germany\",\"france\",\"hungary\",\"austria\"),(\"berlin\",\"paris\",\"budpest\",\"vienna\")])\n",
    "p1,p2 = np.hsplit(y,2)\n",
    "print(p1)\n",
    "print(p2)"
   ]
  },
  {
   "cell_type": "code",
   "execution_count": 9,
   "metadata": {},
   "outputs": [
    {
     "name": "stdout",
     "output_type": "stream",
     "text": [
      "[['germany' 'france' 'hungary' 'austria']]\n",
      "[['berlin' 'paris' 'budpest' 'vienna']]\n"
     ]
    }
   ],
   "source": [
    "p_1,p_2 = np.split(y,2)\n",
    "print(p_1)\n",
    "print(p_2)"
   ]
  },
  {
   "cell_type": "code",
   "execution_count": 10,
   "metadata": {},
   "outputs": [
    {
     "name": "stdout",
     "output_type": "stream",
     "text": [
      "['germany' 'france' 'hungary' 'austria']\n",
      "['berlin' 'paris' 'budpest' 'vienna']\n"
     ]
    }
   ],
   "source": [
    "#Array Unpackaging\n",
    "countries,capitals = y\n",
    "print(countries)\n",
    "print(capitals)"
   ]
  }
 ],
 "metadata": {
  "kernelspec": {
   "display_name": "Python 3",
   "language": "python",
   "name": "python3"
  },
  "language_info": {
   "codemirror_mode": {
    "name": "ipython",
    "version": 3
   },
   "file_extension": ".py",
   "mimetype": "text/x-python",
   "name": "python",
   "nbconvert_exporter": "python",
   "pygments_lexer": "ipython3",
   "version": "3.7.3"
  }
 },
 "nbformat": 4,
 "nbformat_minor": 2
}

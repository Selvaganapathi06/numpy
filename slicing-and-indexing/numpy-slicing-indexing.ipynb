{
 "cells": [
  {
   "cell_type": "code",
   "execution_count": 12,
   "metadata": {},
   "outputs": [
    {
     "name": "stdout",
     "output_type": "stream",
     "text": [
      "[  0   1   4   9  16  25  36  49  64  81 100]\n",
      "4\n",
      "81\n",
      "[  4   9  16  25  36  49  64  81 100]\n",
      "[ 4  9 16 25 36 49 64]\n",
      "[ 0  1  4  9 16 25 36]\n",
      "[  0   4  16  36  64 100]\n",
      "[100  81  64  49  36  25  16   9   4   1   0]\n",
      "5\n",
      "avles\n"
     ]
    }
   ],
   "source": [
    "#numpy indexing and slicing\n",
    "import numpy as np\n",
    "a= np.arange(11)**2\n",
    "print(a)\n",
    "print(a[2])\n",
    "print(a[-2])\n",
    "print(a[2:])\n",
    "print(a[2:-2])\n",
    "print(a[:7])\n",
    "print(a[:11:2])\n",
    "#-ve indexing used \n",
    "print(a[::-1])\n",
    "a=\"selva\"\n",
    "print(len(a))\n",
    "print(a[::-1])"
   ]
  }
 ],
 "metadata": {
  "kernelspec": {
   "display_name": "Python 3",
   "language": "python",
   "name": "python3"
  },
  "language_info": {
   "codemirror_mode": {
    "name": "ipython",
    "version": 3
   },
   "file_extension": ".py",
   "mimetype": "text/x-python",
   "name": "python",
   "nbconvert_exporter": "python",
   "pygments_lexer": "ipython3",
   "version": "3.7.3"
  }
 },
 "nbformat": 4,
 "nbformat_minor": 2
}

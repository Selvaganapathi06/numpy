{
 "cells": [
  {
   "cell_type": "code",
   "execution_count": 8,
   "metadata": {},
   "outputs": [
    {
     "name": "stdout",
     "output_type": "stream",
     "text": [
      "[[8 8]\n",
      " [3 4]]\n"
     ]
    },
    {
     "data": {
      "text/plain": [
       "14"
      ]
     },
     "execution_count": 8,
     "metadata": {},
     "output_type": "execute_result"
    }
   ],
   "source": [
    "#dot function\n",
    "#look like matrix multiplication\n",
    "import numpy as np\n",
    "A = np.array([[1,2],[0,1]])\n",
    "B = np.array([[2,0],[3,4]])\n",
    "c= np.dot(A,B)\n",
    "print(c)\n",
    "## Linear algebra\n",
    "### Dot product: product of two arrays\n",
    "f = np.array([1,2])\n",
    "g = np.array([4,5])\n",
    "### 1*4+2*5\n",
    "np.dot(f, g)"
   ]
  },
  {
   "cell_type": "code",
   "execution_count": 13,
   "metadata": {},
   "outputs": [
    {
     "name": "stdout",
     "output_type": "stream",
     "text": [
      "sum of h: 423\n",
      "max of h: 90\n",
      "min of h: 3\n"
     ]
    }
   ],
   "source": [
    "#Aggregation\n",
    "import numpy as np\n",
    "h = np.array([3,56,78,90,34,56,34,72])\n",
    "#sum\n",
    "print(\"sum of h:\",h.sum())\n",
    "#max\n",
    "print(\"max of h:\",h.max())\n",
    "#min\n",
    "print(\"min of h:\",h.min())"
   ]
  },
  {
   "cell_type": "code",
   "execution_count": 21,
   "metadata": {},
   "outputs": [
    {
     "name": "stdout",
     "output_type": "stream",
     "text": [
      "[[ 0  1  2  3]\n",
      " [ 4  5  6  7]\n",
      " [ 8  9 10 11]]\n",
      "sum 66\n",
      "sum [12 15 18 21]\n",
      "sum [ 6 22 38]\n",
      "min 0\n",
      "min [0 1 2 3]\n",
      "min [0 4 8]\n",
      "max 11\n",
      "max [ 8  9 10 11]\n",
      "max [ 3  7 11]\n"
     ]
    }
   ],
   "source": [
    "#Aggregation in axis based\n",
    "import numpy as np\n",
    "i = np.arange(12).reshape(3,4)\n",
    "print(i)\n",
    "#sum\n",
    "print(\"sum\",i.sum())\n",
    "print(\"sum\",i.sum(axis = 0))\n",
    "print(\"sum\",i.sum(axis = 1))\n",
    "#min\n",
    "print(\"min\",i.min())\n",
    "print(\"min\",i.min(axis = 0))\n",
    "print(\"min\",i.min(axis = 1))\n",
    "#max\n",
    "print(\"max\",i.max())\n",
    "print(\"max\",i.max(axis = 0))\n",
    "print(\"max\",i.max(axis = 1))"
   ]
  }
 ],
 "metadata": {
  "kernelspec": {
   "display_name": "Python 3",
   "language": "python",
   "name": "python3"
  },
  "language_info": {
   "codemirror_mode": {
    "name": "ipython",
    "version": 3
   },
   "file_extension": ".py",
   "mimetype": "text/x-python",
   "name": "python",
   "nbconvert_exporter": "python",
   "pygments_lexer": "ipython3",
   "version": "3.7.3"
  }
 },
 "nbformat": 4,
 "nbformat_minor": 2
}
